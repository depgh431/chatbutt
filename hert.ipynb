{
 "cells": [
  {
   "cell_type": "code",
   "execution_count": 22,
   "metadata": {},
   "outputs": [
    {
     "data": {
      "text/html": [
       "<div>\n",
       "<style scoped>\n",
       "    .dataframe tbody tr th:only-of-type {\n",
       "        vertical-align: middle;\n",
       "    }\n",
       "\n",
       "    .dataframe tbody tr th {\n",
       "        vertical-align: top;\n",
       "    }\n",
       "\n",
       "    .dataframe thead th {\n",
       "        text-align: right;\n",
       "    }\n",
       "</style>\n",
       "<table border=\"1\" class=\"dataframe\">\n",
       "  <thead>\n",
       "    <tr style=\"text-align: right;\">\n",
       "      <th></th>\n",
       "      <th>index</th>\n",
       "      <th>-0.044699</th>\n",
       "      <th>6.3501</th>\n",
       "    </tr>\n",
       "  </thead>\n",
       "  <tbody>\n",
       "    <tr>\n",
       "      <th>0</th>\n",
       "      <td>0</td>\n",
       "      <td>-0.044699</td>\n",
       "      <td>6.3501</td>\n",
       "    </tr>\n",
       "    <tr>\n",
       "      <th>1</th>\n",
       "      <td>2</td>\n",
       "      <td>-0.044380</td>\n",
       "      <td>6.3501</td>\n",
       "    </tr>\n",
       "    <tr>\n",
       "      <th>2</th>\n",
       "      <td>3</td>\n",
       "      <td>-0.043424</td>\n",
       "      <td>6.3501</td>\n",
       "    </tr>\n",
       "    <tr>\n",
       "      <th>3</th>\n",
       "      <td>4</td>\n",
       "      <td>-0.042468</td>\n",
       "      <td>6.3504</td>\n",
       "    </tr>\n",
       "    <tr>\n",
       "      <th>4</th>\n",
       "      <td>5</td>\n",
       "      <td>-0.040555</td>\n",
       "      <td>6.3510</td>\n",
       "    </tr>\n",
       "    <tr>\n",
       "      <th>...</th>\n",
       "      <td>...</td>\n",
       "      <td>...</td>\n",
       "      <td>...</td>\n",
       "    </tr>\n",
       "    <tr>\n",
       "      <th>923391</th>\n",
       "      <td>1256110</td>\n",
       "      <td>-0.035775</td>\n",
       "      <td>6.3264</td>\n",
       "    </tr>\n",
       "    <tr>\n",
       "      <th>923392</th>\n",
       "      <td>1256112</td>\n",
       "      <td>-0.035775</td>\n",
       "      <td>6.3232</td>\n",
       "    </tr>\n",
       "    <tr>\n",
       "      <th>923393</th>\n",
       "      <td>1256115</td>\n",
       "      <td>-0.034819</td>\n",
       "      <td>6.3183</td>\n",
       "    </tr>\n",
       "    <tr>\n",
       "      <th>923394</th>\n",
       "      <td>1256116</td>\n",
       "      <td>-0.034500</td>\n",
       "      <td>6.3167</td>\n",
       "    </tr>\n",
       "    <tr>\n",
       "      <th>923395</th>\n",
       "      <td>1256117</td>\n",
       "      <td>-0.034181</td>\n",
       "      <td>6.3155</td>\n",
       "    </tr>\n",
       "  </tbody>\n",
       "</table>\n",
       "<p>923396 rows × 3 columns</p>\n",
       "</div>"
      ],
      "text/plain": [
       "          index  -0.044699  6.3501\n",
       "0             0  -0.044699  6.3501\n",
       "1             2  -0.044380  6.3501\n",
       "2             3  -0.043424  6.3501\n",
       "3             4  -0.042468  6.3504\n",
       "4             5  -0.040555  6.3510\n",
       "...         ...        ...     ...\n",
       "923391  1256110  -0.035775  6.3264\n",
       "923392  1256112  -0.035775  6.3232\n",
       "923393  1256115  -0.034819  6.3183\n",
       "923394  1256116  -0.034500  6.3167\n",
       "923395  1256117  -0.034181  6.3155\n",
       "\n",
       "[923396 rows x 3 columns]"
      ]
     },
     "execution_count": 22,
     "metadata": {},
     "output_type": "execute_result"
    }
   ],
   "source": [
    "import pandas as pd\n",
    "data=pd.read_csv('chadu.csv')\n",
    "df=pd.DataFrame(data)\n",
    "df=df.drop_duplicates()\n",
    "df.reset_index()"
   ]
  },
  {
   "cell_type": "code",
   "execution_count": 23,
   "metadata": {},
   "outputs": [
    {
     "data": {
      "text/plain": [
       "<bound method NDFrame.describe of          -0.044699  6.3501\n",
       "0        -0.044699  6.3501\n",
       "2        -0.044380  6.3501\n",
       "3        -0.043424  6.3501\n",
       "4        -0.042468  6.3504\n",
       "5        -0.040555  6.3510\n",
       "...            ...     ...\n",
       "1256110  -0.035775  6.3264\n",
       "1256112  -0.035775  6.3232\n",
       "1256115  -0.034819  6.3183\n",
       "1256116  -0.034500  6.3167\n",
       "1256117  -0.034181  6.3155\n",
       "\n",
       "[923396 rows x 2 columns]>"
      ]
     },
     "execution_count": 23,
     "metadata": {},
     "output_type": "execute_result"
    }
   ],
   "source": [
    "df.describe"
   ]
  },
  {
   "cell_type": "code",
   "execution_count": 32,
   "metadata": {},
   "outputs": [
    {
     "name": "stdout",
     "output_type": "stream",
     "text": [
      "368456 499668\n"
     ]
    },
    {
     "data": {
      "image/png": "[encoded data removed]",
      "text/plain": [
       "<Figure size 640x480 with 1 Axes>"
      ]
     },
     "metadata": {},
     "output_type": "display_data"
    }
   ],
   "source": [
    "import matplotlib.pyplot as plt\n",
    "import numpy as np\n",
    "y=np.array(df['-0.044699'])\n",
    "x=np.array(df['6.3501'])\n",
    "ma=0\n",
    "k=0\n",
    "plt.plot(x,y)\n",
    "for i in range(1,len(x)-1):\n",
    "    if(x[i]>x[i+1]):\n",
    "             "
   ]
  },
  {
   "cell_type": "code",
   "execution_count": null,
   "metadata": {},
   "outputs": [],
   "source": []
  }
 ],
 "metadata": {
  "kernelspec": {
   "display_name": "Python 3.9.0 64-bit",
   "language": "python",
   "name": "python3"
  },
  "language_info": {
   "codemirror_mode": {
    "name": "ipython",
    "version": 3
   },
   "file_extension": ".py",
   "mimetype": "text/x-python",
   "name": "python",
   "nbconvert_exporter": "python",
   "pygments_lexer": "ipython3",
   "version": "3.9.0"
  },
  "orig_nbformat": 4,
  "vscode": {
   "interpreter": {
    "hash": "db95b4d968c7b7e9ee021a9de806c794ec8a8ecd3429ba0c6dc49839c5bf92df"
   }
  }
 },
 "nbformat": 4,
 "nbformat_minor": 2
}
